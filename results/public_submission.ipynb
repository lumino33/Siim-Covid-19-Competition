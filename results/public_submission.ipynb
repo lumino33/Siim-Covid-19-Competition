{
 "cells": [
  {
   "cell_type": "code",
   "execution_count": 1,
   "metadata": {},
   "outputs": [
    {
     "name": "stderr",
     "output_type": "stream",
     "text": [
      "/home/hungld11/anaconda3/envs/python_3.7/lib/python3.7/site-packages/tqdm/auto.py:22: TqdmWarning: IProgress not found. Please update jupyter and ipywidgets. See https://ipywidgets.readthedocs.io/en/stable/user_install.html\n",
      "  from .autonotebook import tqdm as notebook_tqdm\n"
     ]
    }
   ],
   "source": [
    "import torch\n",
    "import pandas as pd\n",
    "import numpy as np\n",
    "from tqdm import tqdm\n",
    "from ensemble_boxes import weighted_boxes_fusion"
   ]
  },
  {
   "cell_type": "code",
   "execution_count": 2,
   "metadata": {},
   "outputs": [],
   "source": [
    "import pickle\n",
    "def load_dict(name):\n",
    "    with open(name, 'rb') as f:\n",
    "        return pickle.load(f)"
   ]
  },
  {
   "cell_type": "code",
   "execution_count": 3,
   "metadata": {},
   "outputs": [],
   "source": [
    "submission_study_output = []\n",
    "submission_image_output = []\n",
    "study_pred = torch.load(\"/home/hungld11/Documents/SIIM COVID DETECTION/results/study_level/efficientnet-b5_512_UnetDecoder_aux_fold0_1_2_3_4_test_pred_8tta_1.pth\")['pred_dict']\n",
    "# image_preds = torch.load(\"/home/hungld11/Documents/SIIM COVID DETECTION/results/image_level/resnet101d_512_fold_3_4_0_1_2_test_pred_1.pth\")\n",
    "test_df = pd.read_csv(\"/home/hungld11/Documents/SIIM COVID DETECTION/dataset/test_meta.csv\")\n",
    "classes = [\"negative\", \"typical\", \"indeterminate\", \"atypical\"]"
   ]
  },
  {
   "cell_type": "code",
   "execution_count": 5,
   "metadata": {},
   "outputs": [
    {
     "name": "stderr",
     "output_type": "stream",
     "text": [
      "100%|██████████| 1214/1214 [00:11<00:00, 104.04it/s]\n"
     ]
    }
   ],
   "source": [
    "submission_study_output = []\n",
    "for studyid, grp in tqdm(test_df.groupby('studyid')):\n",
    "    preds = []\n",
    "    for _, row in grp.iterrows():\n",
    "        pred =  study_pred[row['imageid']]     \n",
    "        preds.append(pred)\n",
    "        # boxes, scores, labels, img_width, img_height = image_preds[row['imageid']]\n",
    "        \n",
    "        boxes, scores, labels, img_width, img_height = load_dict(\"/home/hungld11/Documents/SIIM COVID DETECTION/results/image_level_pkl/{}.pkl\".format(row['imageid']))\n",
    "        boxes, scores, labels = weighted_boxes_fusion(boxes, scores, labels, weights=None, iou_thr=0.6)\n",
    "        assert np.mean(labels) == 0\n",
    "        boxes = boxes.clip(0,1)\n",
    "        \n",
    "        boxes[:,[0,2]] = boxes[:,[0,2]]*float(img_width)\n",
    "        boxes[:,[1,3]] = boxes[:,[1,3]]*float(img_height)\n",
    "        \n",
    "        neg_image_pred = 'none {} 0 0 1 1'.format(pred[0])\n",
    "        opacity_image_pred = []\n",
    "        for box, score in zip(boxes, scores):\n",
    "            opacity_image_pred.append('opacity {} {} {} {} {}'.format(score, box[0], box[1], box[2],box[3]))\n",
    "        image_pred = ' '.join([neg_image_pred] + opacity_image_pred)\n",
    "        submission_image_output.append(['{}_image'.format(row['imageid']), image_pred])\n",
    "        \n",
    "    preds = np.array(preds)\n",
    "    preds = np.mean(preds, axis=0)\n",
    "        \n",
    "    study_preds = []\n",
    "    for clsidx, clsname in enumerate(classes):\n",
    "        study_preds.append('{} {} 0 0 1 1'.format(classes[clsidx], preds[clsidx]))\n",
    "    study_preds = ' '.join(study_preds)\n",
    "    submission_study_output.append(['{}_study'.format(studyid), study_preds])\n",
    "\n"
   ]
  },
  {
   "cell_type": "code",
   "execution_count": 6,
   "metadata": {},
   "outputs": [],
   "source": [
    "submission_output = submission_study_output + submission_image_output\n",
    "sub_df = pd.DataFrame(data = np.array(submission_output), columns=['id','PredictionString'])"
   ]
  },
  {
   "cell_type": "code",
   "execution_count": 7,
   "metadata": {},
   "outputs": [
    {
     "data": {
      "text/html": [
       "<div>\n",
       "<style scoped>\n",
       "    .dataframe tbody tr th:only-of-type {\n",
       "        vertical-align: middle;\n",
       "    }\n",
       "\n",
       "    .dataframe tbody tr th {\n",
       "        vertical-align: top;\n",
       "    }\n",
       "\n",
       "    .dataframe thead th {\n",
       "        text-align: right;\n",
       "    }\n",
       "</style>\n",
       "<table border=\"1\" class=\"dataframe\">\n",
       "  <thead>\n",
       "    <tr style=\"text-align: right;\">\n",
       "      <th></th>\n",
       "      <th>id</th>\n",
       "      <th>PredictionString</th>\n",
       "    </tr>\n",
       "  </thead>\n",
       "  <tbody>\n",
       "    <tr>\n",
       "      <th>0</th>\n",
       "      <td>00188a671292_study</td>\n",
       "      <td>negative 0.8642578125 0 0 1 1 typical 0.033630...</td>\n",
       "    </tr>\n",
       "    <tr>\n",
       "      <th>1</th>\n",
       "      <td>004bd59708be_study</td>\n",
       "      <td>negative 0.00287628173828125 0 0 1 1 typical 0...</td>\n",
       "    </tr>\n",
       "    <tr>\n",
       "      <th>2</th>\n",
       "      <td>00508faccd39_study</td>\n",
       "      <td>negative 0.58251953125 0 0 1 1 typical 0.17382...</td>\n",
       "    </tr>\n",
       "    <tr>\n",
       "      <th>3</th>\n",
       "      <td>006486aa80b2_study</td>\n",
       "      <td>negative 0.2203369140625 0 0 1 1 typical 0.347...</td>\n",
       "    </tr>\n",
       "    <tr>\n",
       "      <th>4</th>\n",
       "      <td>00655178fdfc_study</td>\n",
       "      <td>negative 0.429443359375 0 0 1 1 typical 0.2480...</td>\n",
       "    </tr>\n",
       "    <tr>\n",
       "      <th>...</th>\n",
       "      <td>...</td>\n",
       "      <td>...</td>\n",
       "    </tr>\n",
       "    <tr>\n",
       "      <th>2472</th>\n",
       "      <td>064b37b01cd2_image</td>\n",
       "      <td>none 0.1510009765625 0 0 1 1 opacity 0.3777035...</td>\n",
       "    </tr>\n",
       "    <tr>\n",
       "      <th>2473</th>\n",
       "      <td>02eceb0fc405_image</td>\n",
       "      <td>none 0.1619873046875 0 0 1 1 opacity 0.6494870...</td>\n",
       "    </tr>\n",
       "    <tr>\n",
       "      <th>2474</th>\n",
       "      <td>16a0d37747d7_image</td>\n",
       "      <td>none 0.00049591064453125 0 0 1 1 opacity 0.959...</td>\n",
       "    </tr>\n",
       "    <tr>\n",
       "      <th>2475</th>\n",
       "      <td>aa55fc6c616c_image</td>\n",
       "      <td>none 0.61669921875 0 0 1 1 opacity 0.505420223...</td>\n",
       "    </tr>\n",
       "    <tr>\n",
       "      <th>2476</th>\n",
       "      <td>36be4f943382_image</td>\n",
       "      <td>none 0.1444091796875 0 0 1 1 opacity 0.6144359...</td>\n",
       "    </tr>\n",
       "  </tbody>\n",
       "</table>\n",
       "<p>2477 rows × 2 columns</p>\n",
       "</div>"
      ],
      "text/plain": [
       "                      id                                   PredictionString\n",
       "0     00188a671292_study  negative 0.8642578125 0 0 1 1 typical 0.033630...\n",
       "1     004bd59708be_study  negative 0.00287628173828125 0 0 1 1 typical 0...\n",
       "2     00508faccd39_study  negative 0.58251953125 0 0 1 1 typical 0.17382...\n",
       "3     006486aa80b2_study  negative 0.2203369140625 0 0 1 1 typical 0.347...\n",
       "4     00655178fdfc_study  negative 0.429443359375 0 0 1 1 typical 0.2480...\n",
       "...                  ...                                                ...\n",
       "2472  064b37b01cd2_image  none 0.1510009765625 0 0 1 1 opacity 0.3777035...\n",
       "2473  02eceb0fc405_image  none 0.1619873046875 0 0 1 1 opacity 0.6494870...\n",
       "2474  16a0d37747d7_image  none 0.00049591064453125 0 0 1 1 opacity 0.959...\n",
       "2475  aa55fc6c616c_image  none 0.61669921875 0 0 1 1 opacity 0.505420223...\n",
       "2476  36be4f943382_image  none 0.1444091796875 0 0 1 1 opacity 0.6144359...\n",
       "\n",
       "[2477 rows x 2 columns]"
      ]
     },
     "execution_count": 7,
     "metadata": {},
     "output_type": "execute_result"
    }
   ],
   "source": [
    "sub_df"
   ]
  },
  {
   "cell_type": "code",
   "execution_count": null,
   "metadata": {},
   "outputs": [],
   "source": [
    "sub_df.to_csv(\"/home/hungld11/Documents/SIIM COVID DETECTION/results/public_submission_2.csv\", index=False)"
   ]
  },
  {
   "cell_type": "code",
   "execution_count": null,
   "metadata": {},
   "outputs": [],
   "source": []
  }
 ],
 "metadata": {
  "kernelspec": {
   "display_name": "Python 3.7.13 ('python_3.7')",
   "language": "python",
   "name": "python3"
  },
  "language_info": {
   "codemirror_mode": {
    "name": "ipython",
    "version": 3
   },
   "file_extension": ".py",
   "mimetype": "text/x-python",
   "name": "python",
   "nbconvert_exporter": "python",
   "pygments_lexer": "ipython3",
   "version": "3.7.13"
  },
  "orig_nbformat": 4,
  "vscode": {
   "interpreter": {
    "hash": "17019f4ba32bd289c51885c41ecc56b6f4c6b670d3d00a5eb337d25fdeb5b56d"
   }
  }
 },
 "nbformat": 4,
 "nbformat_minor": 2
}
