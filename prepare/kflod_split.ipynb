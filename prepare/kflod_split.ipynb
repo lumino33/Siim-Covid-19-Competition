{
 "cells": [
  {
   "cell_type": "code",
   "execution_count": 1,
   "metadata": {},
   "outputs": [],
   "source": [
    "import pandas as pd \n",
    "import numpy as np\n",
    "from tqdm import tqdm\n",
    "from iterstrat.ml_stratifiers import MultilabelStratifiedKFold"
   ]
  },
  {
   "cell_type": "code",
   "execution_count": 2,
   "metadata": {},
   "outputs": [],
   "source": [
    "study_classes = [\n",
    "    'Negative for Pneumonia',\n",
    "    'Typical Appearance',\n",
    "    'Indeterminate Appearance',\n",
    "    'Atypical Appearance'\n",
    "]"
   ]
  },
  {
   "cell_type": "code",
   "execution_count": 3,
   "metadata": {},
   "outputs": [
    {
     "name": "stderr",
     "output_type": "stream",
     "text": [
      "/home/hungld11/anaconda3/envs/python_3.7/lib/python3.7/site-packages/ipykernel_launcher.py:3: FutureWarning: In a future version of pandas all arguments of DataFrame.drop except for the argument 'labels' will be keyword-only\n",
      "  This is separate from the ipykernel package so we can avoid doing imports until\n"
     ]
    }
   ],
   "source": [
    "study_df = pd.read_csv('../siim-covid19-detection/train_study_level.csv')\n",
    "study_df['studyid'] = study_df.apply(lambda row: row.id.split('_')[0], axis=1)\n",
    "study_df = study_df.drop('id', 1)\n",
    "\n",
    "image_df = pd.read_csv('../siim-covid19-detection/no_duplicates_train_image_level.csv')\n",
    "image_df['id'] = image_df.apply(lambda row: row.id.split('_')[0], axis=1)\n",
    "\n",
    "train_meta_df = pd.read_csv('../dataset/train_meta.csv')\n",
    "meta_columns = train_meta_df.columns.values.tolist()"
   ]
  },
  {
   "cell_type": "code",
   "execution_count": 5,
   "metadata": {},
   "outputs": [
    {
     "name": "stderr",
     "output_type": "stream",
     "text": [
      "100%|██████████| 3261/3261 [00:07<00:00, 426.59it/s]\n"
     ]
    }
   ],
   "source": [
    "x = []\n",
    "y = []\n",
    "for patientid, grp in tqdm(train_meta_df.groupby('patientid')):\n",
    "    x.append(patientid)\n",
    "    c = [0]*(len(study_classes) + 1) ###add has box\n",
    "    for studyid in np.unique(grp.studyid.values):\n",
    "        study_tmp_df = study_df.loc[study_df['studyid'] == studyid]\n",
    "        assert len(study_tmp_df) == 1\n",
    "        study_value = study_tmp_df[study_classes].values[0,:]\n",
    "        for i in range(len(study_classes)):\n",
    "            if study_value[i] == 1:\n",
    "                c[i] = 1\n",
    "        \n",
    "        image_tmp_df = image_df.loc[image_df['StudyInstanceUID'] == studyid]\n",
    "        for _, row in image_tmp_df.iterrows():\n",
    "            if row['label'] != 'none 1 0 0 1 1':\n",
    "                c[-1] = 1\n",
    "    \n",
    "    y.append(c)   \n",
    "x = np.array(x)\n",
    "y = np.array(y)"
   ]
  },
  {
   "cell_type": "code",
   "execution_count": 17,
   "metadata": {},
   "outputs": [
    {
     "name": "stdout",
     "output_type": "stream",
     "text": [
      "Fold 0: Patient 649 | Study 1208\n",
      "Fold 1: Patient 657 | Study 1187\n",
      "Fold 2: Patient 644 | Study 1196\n",
      "Fold 3: Patient 654 | Study 1233\n",
      "Fold 4: Patient 657 | Study 1230\n"
     ]
    }
   ],
   "source": [
    "mskf = MultilabelStratifiedKFold(n_splits=5, shuffle=True, random_state=8)\n",
    "outputs = []\n",
    "for fold, (train_index, val_index) in enumerate(mskf.split(x, y)):\n",
    "    val_df = train_meta_df.loc[train_meta_df.patientid.isin(x[val_index])]\n",
    "    print('Fold {}: Patient {} | Study {}'.format(fold, len(np.unique(val_df.patientid.values)), len(np.unique(val_df.studyid.values))))\n",
    "    \n",
    "    for _, row in val_df.iterrows():\n",
    "        meta_value = row[meta_columns].values.tolist()\n",
    "        study_tmp_df = study_df.loc[study_df['studyid'] == row['studyid']]\n",
    "        assert len(study_tmp_df) == 1\n",
    "        study_value = list(np.squeeze(study_tmp_df[study_classes].values))\n",
    "        \n",
    "        image_tmp_df = image_df.loc[image_df['id'] == row['imageid']]\n",
    "        assert len(image_tmp_df) == 1\n",
    "\n",
    "        image_label = image_tmp_df.label.values[0]\n",
    "        if image_label != 'none 1 0 0 1 1':\n",
    "            hasbox = True\n",
    "        else:\n",
    "            hasbox = False\n",
    "        outputs.append(meta_value+study_value+[image_label, hasbox, fold])\n",
    "\n",
    "kfold_df = pd.DataFrame(data=np.array(outputs), columns=[meta_columns+study_classes+['label', 'hasbox', 'fold']])"
   ]
  },
  {
   "cell_type": "code",
   "execution_count": 22,
   "metadata": {},
   "outputs": [],
   "source": [
    "kfold_df.to_csv(\"../dataset/train_kfold.csv\")"
   ]
  }
 ],
 "metadata": {
  "kernelspec": {
   "display_name": "Python 3.7.13 ('python_3.7')",
   "language": "python",
   "name": "python3"
  },
  "language_info": {
   "codemirror_mode": {
    "name": "ipython",
    "version": 3
   },
   "file_extension": ".py",
   "mimetype": "text/x-python",
   "name": "python",
   "nbconvert_exporter": "python",
   "pygments_lexer": "ipython3",
   "version": "3.7.13"
  },
  "orig_nbformat": 4,
  "vscode": {
   "interpreter": {
    "hash": "17019f4ba32bd289c51885c41ecc56b6f4c6b670d3d00a5eb337d25fdeb5b56d"
   }
  }
 },
 "nbformat": 4,
 "nbformat_minor": 2
}
