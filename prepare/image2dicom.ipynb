{
 "cells": [
  {
   "cell_type": "code",
   "execution_count": 1,
   "metadata": {},
   "outputs": [],
   "source": [
    "import pandas as pd\n",
    "import os\n",
    "import glob\n",
    "import numpy as np\n",
    "import pydicom\n",
    "import cv2\n",
    "from multiprocessing import Pool\n",
    "from pydicom.pixel_data_handlers.util import apply_voi_lut\n",
    "import warnings\n",
    "warnings.filterwarnings(\"ignore\")"
   ]
  },
  {
   "cell_type": "code",
   "execution_count": 2,
   "metadata": {},
   "outputs": [],
   "source": [
    "class ME:\n",
    "    def __init__(self, StudyInstanceUID, file_path, type):\n",
    "        self.StudyInstanceUID = StudyInstanceUID\n",
    "        self.file_path = file_path\n",
    "        self.type = type\n"
   ]
  },
  {
   "cell_type": "code",
   "execution_count": 3,
   "metadata": {},
   "outputs": [],
   "source": [
    "def dicom2image(ele):\n",
    "    image_id = ele.file_path.split('/')[-1].split('.')[0]\n",
    "    dcm_file = pydicom.read_file(ele.file_path)\n",
    "    \n",
    "    PatientID = dcm_file.PatientID\n",
    "    assert image_id == dcm_file.SOPInstanceUID\n",
    "    series_id = dcm_file.SeriesInstanceUID\n",
    "\n",
    "    assert ele.StudyInstanceUID == dcm_file.StudyInstanceUID\n",
    "\n",
    "    data = apply_voi_lut(dcm_file.pixel_array, dcm_file)\n",
    "\n",
    "    if dcm_file.PhotometricInterpretation == \"MONOCHROME1\":\n",
    "        data = np.amax(data) - data\n",
    "\n",
    "    data = data - np.min(data)\n",
    "    data = data / np.max(data)\n",
    "    data = (data * 255).astype(np.uint8)\n",
    "\n",
    "    image_path = '../dataset/{}/{}.png'.format(ele.type, image_id)\n",
    "    cv2.imwrite(image_path, data)\n",
    "\n",
    "    return [PatientID, ele.StudyInstanceUID, series_id, image_id, dcm_file.SeriesNumber, dcm_file.InstanceNumber]\n"
   ]
  },
  {
   "cell_type": "code",
   "execution_count": 4,
   "metadata": {},
   "outputs": [],
   "source": [
    "os.makedirs('../dataset/train', exist_ok=True)"
   ]
  },
  {
   "cell_type": "code",
   "execution_count": 5,
   "metadata": {},
   "outputs": [
    {
     "name": "stderr",
     "output_type": "stream",
     "text": [
      "Corrupt JPEG data: premature end of data segment\n"
     ]
    }
   ],
   "source": [
    "#train\n",
    "meles = []\n",
    "df = pd.read_csv('../siim-covid19-detection/no_duplicates_train_image_level.csv')\n",
    "for image_id, study_id in zip(df.id.values, df.StudyInstanceUID.values):\n",
    "    ImageId = image_id.replace('_image', '')\n",
    "    StudyInstanceUID = study_id\n",
    "    for file_path in glob.glob('../siim-covid19-detection/train/{}/*/{}.dcm'.format(StudyInstanceUID, ImageId)):\n",
    "        filename, file_extension = os.path.splitext(file_path)\n",
    "        if file_extension in ['.dcm', '.dicom']:\n",
    "            meles.append(ME(StudyInstanceUID, file_path, 'train'))\n",
    "p = Pool(16)\n",
    "results = p.map(func=dicom2image, iterable = meles)\n",
    "p.close()\n",
    "train_df = pd.DataFrame(\n",
    "    data=np.array(results), \n",
    "    columns=['patientid', 'studyid', 'series_id', 'imageid', 'SeriesNumber', 'InstanceNumber'])\n",
    "train_df.to_csv('../dataset/train_meta.csv', index=False)"
   ]
  },
  {
   "cell_type": "code",
   "execution_count": 7,
   "metadata": {},
   "outputs": [
    {
     "data": {
      "text/plain": [
       "6054"
      ]
     },
     "execution_count": 7,
     "metadata": {},
     "output_type": "execute_result"
    }
   ],
   "source": [
    "len(glob.glob(\"/home/hungld11/Documents/SIIM COVID DETECTION/dataset/train/*\"))"
   ]
  },
  {
   "cell_type": "code",
   "execution_count": 6,
   "metadata": {},
   "outputs": [],
   "source": [
    "os.makedirs('../dataset/test', exist_ok=True)"
   ]
  },
  {
   "cell_type": "code",
   "execution_count": 9,
   "metadata": {},
   "outputs": [],
   "source": [
    "#test\n",
    "meles = []\n",
    "df = pd.read_csv('../siim-covid19-detection/sample_submission.csv')\n",
    "for id in np.unique(df.id.values):\n",
    "    if '_study' not in id:\n",
    "        continue\n",
    "    StudyInstanceUID = id.replace('_study', '')\n",
    "    for file_path in glob.glob('../siim-covid19-detection/test/{}/*/*'.format(StudyInstanceUID)):\n",
    "        filename, file_extension = os.path.splitext(file_path)\n",
    "        if file_extension in ['.dcm', '.dicom']:\n",
    "            meles.append(ME(StudyInstanceUID, file_path, 'test'))\n",
    "p = Pool(16)\n",
    "results = p.map(func=dicom2image, iterable = meles)\n",
    "p.close()\n",
    "test_df = pd.DataFrame(\n",
    "    data=np.array(results), \n",
    "    columns=['patientid', 'studyid', 'series_id', 'imageid', 'SeriesNumber', 'InstanceNumber'])\n",
    "test_df.to_csv('../dataset/test_meta.csv', index=False)"
   ]
  }
 ],
 "metadata": {
  "kernelspec": {
   "display_name": "Python 3.7.13 ('python_3.7')",
   "language": "python",
   "name": "python3"
  },
  "language_info": {
   "codemirror_mode": {
    "name": "ipython",
    "version": 3
   },
   "file_extension": ".py",
   "mimetype": "text/x-python",
   "name": "python",
   "nbconvert_exporter": "python",
   "pygments_lexer": "ipython3",
   "version": "3.7.13"
  },
  "orig_nbformat": 4,
  "vscode": {
   "interpreter": {
    "hash": "17019f4ba32bd289c51885c41ecc56b6f4c6b670d3d00a5eb337d25fdeb5b56d"
   }
  }
 },
 "nbformat": 4,
 "nbformat_minor": 2
}
